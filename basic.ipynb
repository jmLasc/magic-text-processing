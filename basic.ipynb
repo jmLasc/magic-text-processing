{
 "cells": [
  {
   "cell_type": "markdown",
   "metadata": {},
   "source": [
    "The goal of this notebook is to establish some basics for the rest of the dataset, such as how to access the data and how it will be cleaned to suit our purposes. "
   ]
  },
  {
   "cell_type": "markdown",
   "metadata": {},
   "source": [
    "# Importing and Accessing Data"
   ]
  },
  {
   "cell_type": "code",
   "execution_count": 39,
   "metadata": {},
   "outputs": [],
   "source": [
    "import json\n",
    "\n",
    "path = \"cards.json\"\n",
    "with open(path, \"r\", encoding=\"utf8\") as f:\n",
    "    raw = f.read()\n",
    "    data = json.loads(raw)"
   ]
  },
  {
   "cell_type": "code",
   "execution_count": 40,
   "metadata": {},
   "outputs": [
    {
     "name": "stdout",
     "output_type": "stream",
     "text": [
      "<class 'list'>\n",
      "<class 'dict'>\n"
     ]
    }
   ],
   "source": [
    "print(type(data))\n",
    "print(type(data[0]))\n",
    "\n",
    "# So you can iterate through data, and each element is a dictionary."
   ]
  },
  {
   "cell_type": "code",
   "execution_count": 41,
   "metadata": {},
   "outputs": [
    {
     "data": {
      "text/plain": [
       "dict_keys(['object', 'id', 'oracle_id', 'multiverse_ids', 'mtgo_id', 'mtgo_foil_id', 'tcgplayer_id', 'cardmarket_id', 'name', 'lang', 'released_at', 'uri', 'scryfall_uri', 'layout', 'highres_image', 'image_status', 'image_uris', 'mana_cost', 'cmc', 'type_line', 'oracle_text', 'colors', 'color_identity', 'keywords', 'legalities', 'games', 'reserved', 'foil', 'nonfoil', 'finishes', 'oversized', 'promo', 'reprint', 'variation', 'set_id', 'set', 'set_name', 'set_type', 'set_uri', 'set_search_uri', 'scryfall_set_uri', 'rulings_uri', 'prints_search_uri', 'collector_number', 'digital', 'rarity', 'flavor_text', 'card_back_id', 'artist', 'artist_ids', 'illustration_id', 'border_color', 'frame', 'full_art', 'textless', 'booster', 'story_spotlight', 'edhrec_rank', 'prices', 'related_uris', 'purchase_uris'])"
      ]
     },
     "execution_count": 41,
     "metadata": {},
     "output_type": "execute_result"
    }
   ],
   "source": [
    "data[0].keys()"
   ]
  },
  {
   "cell_type": "code",
   "execution_count": 42,
   "metadata": {},
   "outputs": [
    {
     "data": {
      "text/plain": [
       "'jmp'"
      ]
     },
     "execution_count": 42,
     "metadata": {},
     "output_type": "execute_result"
    }
   ],
   "source": [
    "data[12]['set']\n"
   ]
  },
  {
   "cell_type": "code",
   "execution_count": 43,
   "metadata": {},
   "outputs": [
    {
     "data": {
      "text/plain": [
       "['U']"
      ]
     },
     "execution_count": 43,
     "metadata": {},
     "output_type": "execute_result"
    }
   ],
   "source": [
    "data[12]['color_identity']"
   ]
  },
  {
   "cell_type": "code",
   "execution_count": 44,
   "metadata": {},
   "outputs": [
    {
     "data": {
      "text/plain": [
       "'Waterknot'"
      ]
     },
     "execution_count": 44,
     "metadata": {},
     "output_type": "execute_result"
    }
   ],
   "source": [
    "data[12]['name']"
   ]
  },
  {
   "cell_type": "code",
   "execution_count": 45,
   "metadata": {},
   "outputs": [
    {
     "data": {
      "text/plain": [
       "\"Enchant creature\\nWhen Waterknot enters the battlefield, tap enchanted creature.\\nEnchanted creature doesn't untap during its controller's untap step.\""
      ]
     },
     "execution_count": 45,
     "metadata": {},
     "output_type": "execute_result"
    }
   ],
   "source": [
    "data[12]['oracle_text']\n",
    "\n",
    "# So we will also have to remove \\n and replace them wiht something more suitable, probably \". \" (a period followed by a space)"
   ]
  },
  {
   "cell_type": "markdown",
   "metadata": {},
   "source": [
    "# Cleaning"
   ]
  },
  {
   "cell_type": "markdown",
   "metadata": {},
   "source": [
    "4 things need to be done \n",
    "- Remove the card from the dataset if it is in a joke set, e.g. if `'set_type' == 'funny'`\n",
    "- Make the oracle text look nice (replace `'\\n'`)\n",
    "- Remove the cardname from its oracle text\n",
    "- Put into a bucket based on color identity"
   ]
  },
  {
   "cell_type": "code",
   "execution_count": 46,
   "metadata": {},
   "outputs": [
    {
     "data": {
      "text/plain": [
       "30397"
      ]
     },
     "execution_count": 46,
     "metadata": {},
     "output_type": "execute_result"
    }
   ],
   "source": [
    "len(data)"
   ]
  },
  {
   "cell_type": "code",
   "execution_count": 48,
   "metadata": {},
   "outputs": [],
   "source": [
    "import re\n",
    "\n",
    "colorDict = {\n",
    "    'W': [], # white\n",
    "    'U': [], # blue\n",
    "    'B': [], # black\n",
    "    'R': [], # red\n",
    "    'G': [], # green\n",
    "    'colorless': [] # everything else\n",
    "}\n",
    "\n",
    "for i in data:\n",
    "\n",
    "    # Skip funny cards\n",
    "    if i['set_type'] == 'funny':\n",
    "        pass\n",
    "\n",
    "    # Clean \\n and sub out cardname \n",
    "    if 'oracle_text' in i.keys():\n",
    "        text = i['oracle_text'] \n",
    "        text = re.sub(\"\\n\", \"\", text)\n",
    "        text = re.sub(re.escape(i['name']), \"CARDNAME\", text)\n",
    "        i['oracle_text'] = text\n",
    "\n",
    "    # Put into color buckets\n",
    "    # Note that we are not using elifs since cards can have multiple colors\n",
    "    colors = i['color_identity']\n",
    "    if [] == colors:\n",
    "        colorless.append(i)\n",
    "        pass\n",
    "    \n",
    "    for color in colors:\n",
    "        colorDict[color].append(i)"
   ]
  },
  {
   "cell_type": "code",
   "execution_count": 38,
   "metadata": {},
   "outputs": [
    {
     "data": {
      "text/plain": [
       "6229"
      ]
     },
     "execution_count": 38,
     "metadata": {},
     "output_type": "execute_result"
    }
   ],
   "source": []
  }
 ],
 "metadata": {
  "kernelspec": {
   "display_name": "Python 3",
   "language": "python",
   "name": "python3"
  },
  "language_info": {
   "codemirror_mode": {
    "name": "ipython",
    "version": 3
   },
   "file_extension": ".py",
   "mimetype": "text/x-python",
   "name": "python",
   "nbconvert_exporter": "python",
   "pygments_lexer": "ipython3",
   "version": "3.12.0"
  }
 },
 "nbformat": 4,
 "nbformat_minor": 2
}
