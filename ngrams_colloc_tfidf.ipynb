{
 "cells": [
  {
   "cell_type": "markdown",
   "metadata": {},
   "source": [
    "This notebook will evaluate the text using TFIDF and some other metrics."
   ]
  },
  {
   "cell_type": "code",
   "execution_count": 1,
   "metadata": {},
   "outputs": [],
   "source": [
    "import re\n",
    "import nltk\n",
    "import glob\n",
    "import json\n",
    "import numpy as np\n",
    "from basic import *"
   ]
  },
  {
   "cell_type": "code",
   "execution_count": 2,
   "metadata": {},
   "outputs": [],
   "source": [
    "raw = fetchData(\"cards.json\")\n",
    "data = cleanData(raw)\n",
    "colors = list(data.keys())"
   ]
  },
  {
   "cell_type": "code",
   "execution_count": 3,
   "metadata": {},
   "outputs": [],
   "source": [
    "def tokenizeBucket(listColor): # This takes ONE list, e.g. 'W'\n",
    "    tokensList = []\n",
    "    means = [] # This function also gets the mean!!\n",
    "\n",
    "    for cardDict in listColor:\n",
    "        if 'oracle_text' in list(cardDict.keys()):\n",
    "            tokens = nltk.word_tokenize(cardDict['oracle_text'])\n",
    "            for t in tokens:\n",
    "                tokensList.append(t)\n",
    "            means.append(len(tokens))\n",
    "\n",
    "    print(\"Mean = \" + str(np.mean(means)))\n",
    "\n",
    "    return tokensList"
   ]
  },
  {
   "cell_type": "code",
   "execution_count": 4,
   "metadata": {},
   "outputs": [
    {
     "name": "stdout",
     "output_type": "stream",
     "text": [
      "W\n",
      "Mean = 31.297722705961153\n",
      "U\n",
      "Mean = 34.77502984820058\n",
      "B\n",
      "Mean = 33.60487641950568\n",
      "R\n",
      "Mean = 33.38563423331635\n",
      "G\n",
      "Mean = 32.880027619540826\n",
      "colorless\n",
      "Mean = 34.478184991274\n"
     ]
    }
   ],
   "source": [
    "tokens = [] # will be a list(list(str))\n",
    "\n",
    "for i, key in enumerate(data.keys()):\n",
    "    print(colors[i])\n",
    "    tokens.append(tokenizeBucket(data[key]))"
   ]
  },
  {
   "cell_type": "code",
   "execution_count": 5,
   "metadata": {},
   "outputs": [],
   "source": [
    "def print_common_ngrams(tokenlist, ngram, qty):\n",
    "\n",
    "    tokenlist = [w for w in tokenlist if w not in stoplist] \n",
    "\n",
    "    raw = nltk.ngrams(tokenlist, ngram)\n",
    "    fdist = nltk.FreqDist(raw)\n",
    "    for pair in fdist.most_common(qty): # print n most common bigrams\n",
    "        print(pair[0]) # most_common gives list(tuple(tuple(str, str), int)) so this is how we extract the words2\n",
    "    print()\n"
   ]
  },
  {
   "cell_type": "code",
   "execution_count": 6,
   "metadata": {},
   "outputs": [],
   "source": [
    "stoplist = [\"{\", \"}\", 'W', 'U', 'B', 'R', 'G', \"T\", \"—\", \"TK\", \",\", \":\", \".\", \"'s\", \"a\", \"may\"]"
   ]
  },
  {
   "cell_type": "code",
   "execution_count": 7,
   "metadata": {},
   "outputs": [
    {
     "name": "stdout",
     "output_type": "stream",
     "text": [
      "W\n",
      "('damage', 'that', 'would', 'be', 'dealt', 'to')\n",
      "('When', 'CARDNAME', 'enters', 'the', 'battlefield', 'you')\n",
      "('At', 'the', 'beginning', 'of', 'your', 'upkeep')\n",
      "('enters', 'the', 'battlefield', 'under', 'your', 'control')\n",
      "('from', 'your', 'graveyard', 'to', 'the', 'battlefield')\n",
      "('Flying', 'When', 'CARDNAME', 'enters', 'the', 'battlefield')\n",
      "('gets', '+1/+1', 'until', 'end', 'of', 'turn')\n",
      "(')', 'When', 'CARDNAME', 'enters', 'the', 'battlefield')\n",
      "('on', 'the', 'bottom', 'of', 'your', 'library')\n",
      "('When', 'CARDNAME', 'enters', 'the', 'battlefield', 'create')\n",
      "('When', 'CARDNAME', 'enters', 'the', 'battlefield', 'exile')\n",
      "('all', 'damage', 'that', 'would', 'be', 'dealt')\n",
      "('the', 'battlefield', 'under', 'its', 'owner', 'control')\n",
      "('to', 'the', 'battlefield', 'under', 'its', 'owner')\n",
      "('where', 'X', 'is', 'the', 'number', 'of')\n",
      "\n",
      "U\n",
      "('At', 'the', 'beginning', 'of', 'your', 'upkeep')\n",
      "('on', 'the', 'bottom', 'of', 'your', 'library')\n",
      "('Flying', 'When', 'CARDNAME', 'enters', 'the', 'battlefield')\n",
      "('the', 'top', 'card', 'of', 'your', 'library')\n",
      "('When', 'CARDNAME', 'enters', 'the', 'battlefield', 'you')\n",
      "('Whenever', 'CARDNAME', 'deals', 'combat', 'damage', 'to')\n",
      "('CARDNAME', 'deals', 'combat', 'damage', 'to', 'player')\n",
      "('does', \"n't\", 'untap', 'during', 'its', 'controller')\n",
      "(')', 'When', 'CARDNAME', 'enters', 'the', 'battlefield')\n",
      "('the', 'bottom', 'of', 'your', 'library', 'in')\n",
      "('ca', \"n't\", 'be', 'blocked', 'this', 'turn')\n",
      "('enters', 'the', 'battlefield', 'under', 'your', 'control')\n",
      "('(', 'This', 'creature', 'ca', \"n't\", 'be')\n",
      "('cast', 'an', 'instant', 'or', 'sorcery', 'spell')\n",
      "('gains', 'flying', 'until', 'end', 'of', 'turn')\n",
      "\n",
      "B\n",
      "('At', 'the', 'beginning', 'of', 'your', 'upkeep')\n",
      "('from', 'your', 'graveyard', 'to', 'your', 'hand')\n",
      "('from', 'your', 'graveyard', 'to', 'the', 'battlefield')\n",
      "('ca', \"n't\", 'be', 'blocked', 'except', 'by')\n",
      "('creature', 'card', 'from', 'your', 'graveyard', 'to')\n",
      "('(', 'This', 'creature', 'ca', \"n't\", 'be')\n",
      "('This', 'creature', 'ca', \"n't\", 'be', 'blocked')\n",
      "('target', 'creature', 'card', 'from', 'your', 'graveyard')\n",
      "('card', 'from', 'your', 'graveyard', 'to', 'your')\n",
      "('Whenever', 'CARDNAME', 'deals', 'combat', 'damage', 'to')\n",
      "('card', 'from', 'your', 'graveyard', 'to', 'the')\n",
      "('When', 'CARDNAME', 'enters', 'the', 'battlefield', 'you')\n",
      "('CARDNAME', 'deals', 'combat', 'damage', 'to', 'player')\n",
      "('At', 'the', 'beginning', 'of', 'your', 'end')\n",
      "('the', 'beginning', 'of', 'your', 'end', 'step')\n",
      "\n",
      "R\n",
      "('At', 'the', 'beginning', 'of', 'your', 'upkeep')\n",
      "('gets', '+1/+0', 'until', 'end', 'of', 'turn')\n",
      "('at', 'the', 'beginning', 'of', 'the', 'next')\n",
      "('the', 'beginning', 'of', 'the', 'next', 'end')\n",
      "('beginning', 'of', 'the', 'next', 'end', 'step')\n",
      "('deals', '1', 'damage', 'to', 'any', 'target')\n",
      "('gains', 'haste', 'until', 'end', 'of', 'turn')\n",
      "('the', 'top', 'card', 'of', 'your', 'library')\n",
      "('where', 'X', 'is', 'the', 'number', 'of')\n",
      "('enters', 'the', 'battlefield', 'under', 'your', 'control')\n",
      "('deals', '2', 'damage', 'to', 'any', 'target')\n",
      "('on', 'the', 'bottom', 'of', 'your', 'library')\n",
      "('ca', \"n't\", 'be', 'blocked', 'except', 'by')\n",
      "('CARDNAME', 'gets', '+1/+0', 'until', 'end', 'of')\n",
      "(')', 'When', 'CARDNAME', 'enters', 'the', 'battlefield')\n",
      "\n",
      "G\n",
      "('At', 'the', 'beginning', 'of', 'your', 'upkeep')\n",
      "('enters', 'the', 'battlefield', 'under', 'your', 'control')\n",
      "('from', 'your', 'graveyard', 'to', 'your', 'hand')\n",
      "('on', 'the', 'bottom', 'of', 'your', 'library')\n",
      "('When', 'CARDNAME', 'enters', 'the', 'battlefield', 'you')\n",
      "(')', 'When', 'CARDNAME', 'enters', 'the', 'battlefield')\n",
      "('the', 'bottom', 'of', 'your', 'library', 'in')\n",
      "('gets', '+1/+1', 'until', 'end', 'of', 'turn')\n",
      "('the', 'top', 'card', 'of', 'your', 'library')\n",
      "('where', 'X', 'is', 'the', 'number', 'of')\n",
      "('(', 'This', 'creature', 'ca', \"n't\", 'be')\n",
      "('the', 'rest', 'on', 'the', 'bottom', 'of')\n",
      "('rest', 'on', 'the', 'bottom', 'of', 'your')\n",
      "('gets', '+2/+2', 'until', 'end', 'of', 'turn')\n",
      "('onto', 'the', 'battlefield', 'tapped', 'then', 'shuffle')\n",
      "\n",
      "colorless\n",
      "('Add', 'one', 'mana', 'of', 'any', 'color')\n",
      "('At', 'the', 'beginning', 'of', 'your', 'upkeep')\n",
      "('to', 'target', 'creature', 'you', 'control', 'Equip')\n",
      "('you', 'control', 'Equip', 'only', 'as', 'sorcery')\n",
      "('Attach', 'to', 'target', 'creature', 'you', 'control')\n",
      "('target', 'creature', 'you', 'control', 'Equip', 'only')\n",
      "('creature', 'you', 'control', 'Equip', 'only', 'as')\n",
      "('control', 'Equip', 'only', 'as', 'sorcery', ')')\n",
      "('you', 'set', 'this', 'scheme', 'in', 'motion')\n",
      "('As', 'CARDNAME', 'enters', 'the', 'battlefield', 'choose')\n",
      "('When', 'you', 'set', 'this', 'scheme', 'in')\n",
      "('artifact', 'creature', 'until', 'end', 'of', 'turn')\n",
      "('When', 'CARDNAME', 'enters', 'the', 'battlefield', 'you')\n",
      "('on', 'the', 'bottom', 'of', 'your', 'library')\n",
      "('card', 'put', 'it', 'onto', 'the', 'battlefield')\n",
      "\n"
     ]
    }
   ],
   "source": [
    "for i, tl in enumerate(tokens):\n",
    "    print(colors[i])\n",
    "    print_common_ngrams(tl, 6, 15)"
   ]
  },
  {
   "cell_type": "code",
   "execution_count": 8,
   "metadata": {},
   "outputs": [],
   "source": [
    "def print_collocations(tokenlist, n, f):\n",
    "    find = nltk.collocations.BigramCollocationFinder.from_words(tokenlist)\n",
    "    find.apply_freq_filter(f) \n",
    "    best = find.nbest(nltk.collocations.BigramAssocMeasures().pmi, 100)\n",
    "\n",
    "    for pair in best:\n",
    "        if pair[0][0].upper() == pair[0][0] and pair[1][0].upper() == pair[1][0]:\n",
    "            best.remove(pair)\n",
    "\n",
    "    print(\"** Common Collocations **\")\n",
    "    for i, pair in enumerate(best):\n",
    "        if i == n:\n",
    "            break\n",
    "        print(pair)\n",
    "\n",
    "    print()"
   ]
  },
  {
   "cell_type": "code",
   "execution_count": 9,
   "metadata": {},
   "outputs": [
    {
     "name": "stdout",
     "output_type": "stream",
     "text": [
      "W\n",
      "** Common Collocations **\n",
      "('Skipped', 'chapters')\n",
      "('lasts', 'indefinitely')\n",
      "('legend', 'rule')\n",
      "('square', 'brackets')\n",
      "('Shattered', 'Seraph')\n",
      "('Spell', 'mastery')\n",
      "('summoning', 'sickness')\n",
      "('Basic', 'landcycling')\n",
      "('Fateful', 'hour')\n",
      "('counts', 'toward')\n",
      "('final', 'chapter')\n",
      "('Totem', 'armor')\n",
      "('Battle', 'cry')\n",
      "('Friends', 'forever')\n",
      "('nor', 'night')\n",
      "\n",
      "U\n",
      "** Common Collocations **\n",
      "('Timing', 'rules')\n",
      "('Shattered', 'Seraph')\n",
      "('Spell', 'mastery')\n",
      "('Totem', 'armor')\n",
      "('chaos', 'ensues')\n",
      "('wears', 'off')\n",
      "('Friends', 'forever')\n",
      "('counts', 'toward')\n",
      "('friends', 'forever')\n",
      "('square', 'brackets')\n",
      "('Basic', 'landcycling')\n",
      "('crews', 'Vehicles')\n",
      "('Secret', 'council')\n",
      "('Eldrazi', 'Scion')\n",
      "('done', 'activating')\n",
      "\n",
      "B\n",
      "** Common Collocations **\n",
      "('Basic', 'landcycling')\n",
      "('Fathomless', 'descent')\n",
      "('Kher', 'Keep')\n",
      "('Spell', 'mastery')\n",
      "('done', 'activating')\n",
      "('lasts', 'indefinitely')\n",
      "('square', 'brackets')\n",
      "('chaos', 'ensues')\n",
      "('high', 'bid')\n",
      "('postcombat', 'main')\n",
      "('precombat', 'main')\n",
      "('effect', 'lasts')\n",
      "('effect', 'reduces')\n",
      "('counts', 'toward')\n",
      "('phases', 'out')\n",
      "\n",
      "R\n",
      "** Common Collocations **\n",
      "('Young', 'Hero')\n",
      "('counts', 'toward')\n",
      "('Basic', 'landcycling')\n",
      "('Rakish', 'Revelers')\n",
      "('Spell', 'mastery')\n",
      "('legend', 'rule')\n",
      "('summoning', 'sickness')\n",
      "('Pack', 'tactics')\n",
      "('done', 'activating')\n",
      "('chaos', 'ensues')\n",
      "('lasts', 'indefinitely')\n",
      "('Battle', 'cry')\n",
      "('Friends', 'forever')\n",
      "('friends', 'forever')\n",
      "('Eldrazi', 'Spawn')\n",
      "\n",
      "G\n",
      "** Common Collocations **\n",
      "('Spell', 'mastery')\n",
      "('Three', 'Pigs')\n",
      "('booster', 'pack')\n",
      "('Pack', 'tactics')\n",
      "('chaos', 'ensues')\n",
      "('Basic', 'landcycling')\n",
      "('Totem', 'armor')\n",
      "('lasts', 'indefinitely')\n",
      "('summoning', 'sickness')\n",
      "('counts', 'toward')\n",
      "('Ring', 'tempts')\n",
      "('declare', 'attackers')\n",
      "('Pigs', 'spellbook')\n",
      "('19', '|')\n",
      "('command', 'zone')\n",
      "\n",
      "colorless\n",
      "** Common Collocations **\n",
      "('Deep', 'Mines')\n",
      "('clockwise', 'around')\n",
      "('done', 'activating')\n",
      "('goes', 'counterclockwise')\n",
      "('now', 'goes')\n",
      "('proceeded', 'clockwise')\n",
      "('originally', 'printed')\n",
      "('Power', 'Plant')\n",
      "('Time', 'Lord')\n",
      "('while', 'casting')\n",
      "('Hidden', 'agenda')\n",
      "('booster', 'pack')\n",
      "('lasts', 'indefinitely')\n",
      "('kind', 'already')\n",
      "('Living', 'weapon')\n",
      "\n"
     ]
    }
   ],
   "source": [
    "for i, tl in enumerate(tokens):\n",
    "    print(colors[i])\n",
    "    print_collocations(tl, 15, 3)"
   ]
  },
  {
   "cell_type": "markdown",
   "metadata": {},
   "source": [
    "# TF-IDF"
   ]
  },
  {
   "cell_type": "code",
   "execution_count": 38,
   "metadata": {},
   "outputs": [],
   "source": [
    "# imports\n",
    "from sklearn.feature_extraction.text import TfidfVectorizer\n",
    "from sklearn.feature_extraction.text import CountVectorizer\n",
    "from pathlib import Path\n",
    "import pandas as pd\n",
    "import glob\n",
    "import os"
   ]
  },
  {
   "cell_type": "code",
   "execution_count": 22,
   "metadata": {},
   "outputs": [],
   "source": [
    "# Create card text files\n",
    "\n",
    "#folder creation\n",
    "os.makedirs(os.path.join(os.getcwd(), \"cards\"), exist_ok=True)\n",
    "cardDir = os.path.join(os.getcwd(), \"cards\")\n",
    "for i in colors:\n",
    "    newDir = os.path.join(cardDir, i)\n",
    "    os.makedirs(newDir, exist_ok=True)"
   ]
  },
  {
   "cell_type": "code",
   "execution_count": 56,
   "metadata": {},
   "outputs": [],
   "source": [
    "# make all cards\n",
    "for color, cardset in data.items():\n",
    "    \n",
    "    for card in cardset:\n",
    "        title = card['name']\n",
    "        title = re.sub('[!\\\"\\\\/:*?\\\"<>|\\\"]', \"\", title)\n",
    "        title += \".txt\"\n",
    "\n",
    "        path = os.path.join('cards', color, title)\n",
    "        if os.path.exists(path):\n",
    "            break # here so you dont waste time on subsequent runs\n",
    "\n",
    "        desc = card['oracle_text']\n",
    "\n",
    "        with open(path, 'w+', encoding=\"utf8\") as f:\n",
    "            f.write(desc)\n",
    "\n"
   ]
  },
  {
   "cell_type": "code",
   "execution_count": 57,
   "metadata": {},
   "outputs": [],
   "source": [
    "bigdir = os.path.join(os.getcwd(), 'cards')\n",
    "dirs = glob.glob(bigdir + \"/*\") "
   ]
  },
  {
   "cell_type": "code",
   "execution_count": 80,
   "metadata": {},
   "outputs": [],
   "source": [
    "models = []\n",
    "\n",
    "for dir in dirs:\n",
    "    # get some vars\n",
    "    list_txts = glob.glob(dir + \"/*.txt\")\n",
    "    list_names = [Path(text).stem for text in list_txts]\n",
    "\n",
    "    # make tdidf model + vectorize\n",
    "    tfidf_vectorizer = TfidfVectorizer(input='filename', stop_words='english')\n",
    "    tfidf_vector = tfidf_vectorizer.fit_transform(list_txts)\n",
    "\n",
    "    # make into df\n",
    "    tfidf_df = pd.DataFrame(tfidf_vector.toarray(), index=list_names, columns=tfidf_vectorizer.get_feature_names_out())\n",
    "    tfidf_df.stack().reset_index()\n",
    "    tfidf_df = tfidf_df.stack().reset_index()\n",
    "    tfidf_df = tfidf_df.rename(columns={0:'tfidf', 'level_0': 'document','level_1': 'term', 'level_2': 'term'})\n",
    "    top_tfidf = tfidf_df.sort_values(by=['document','tfidf'], ascending=[True,False]).groupby(['document']).head(15)\n",
    "    models.append(top_tfidf)"
   ]
  },
  {
   "cell_type": "code",
   "execution_count": 81,
   "metadata": {},
   "outputs": [],
   "source": [
    "model_b = models[0]\n",
    "model_colorless = models[1]\n",
    "model_g = models[2]\n",
    "model_r = models[3]\n",
    "model_u = models[4]\n",
    "model_w = models[5]"
   ]
  },
  {
   "cell_type": "code",
   "execution_count": 126,
   "metadata": {},
   "outputs": [
    {
     "data": {
      "text/plain": [
       "['W', 'U', 'B', 'R', 'G', 'colorless']"
      ]
     },
     "execution_count": 126,
     "metadata": {},
     "output_type": "execute_result"
    }
   ],
   "source": [
    "colors"
   ]
  },
  {
   "cell_type": "code",
   "execution_count": 128,
   "metadata": {},
   "outputs": [],
   "source": [
    "models = [model_w, model_u, model_b, model_r, model_g, model_colorless] # reassign for printing in the next part"
   ]
  },
  {
   "cell_type": "code",
   "execution_count": 129,
   "metadata": {},
   "outputs": [
    {
     "data": {
      "text/html": [
       "<div>\n",
       "<style scoped>\n",
       "    .dataframe tbody tr th:only-of-type {\n",
       "        vertical-align: middle;\n",
       "    }\n",
       "\n",
       "    .dataframe tbody tr th {\n",
       "        vertical-align: top;\n",
       "    }\n",
       "\n",
       "    .dataframe thead th {\n",
       "        text-align: right;\n",
       "    }\n",
       "</style>\n",
       "<table border=\"1\" class=\"dataframe\">\n",
       "  <thead>\n",
       "    <tr style=\"text-align: right;\">\n",
       "      <th></th>\n",
       "      <th>document</th>\n",
       "      <th>term</th>\n",
       "      <th>tfidf</th>\n",
       "    </tr>\n",
       "  </thead>\n",
       "  <tbody>\n",
       "    <tr>\n",
       "      <th>7472568</th>\n",
       "      <td>Thought Monitor</td>\n",
       "      <td>affinity</td>\n",
       "      <td>0.666206</td>\n",
       "    </tr>\n",
       "    <tr>\n",
       "      <th>5367651</th>\n",
       "      <td>Qumulox</td>\n",
       "      <td>affinity</td>\n",
       "      <td>0.607101</td>\n",
       "    </tr>\n",
       "    <tr>\n",
       "      <th>6556362</th>\n",
       "      <td>Somber Hoverguard</td>\n",
       "      <td>affinity</td>\n",
       "      <td>0.607101</td>\n",
       "    </tr>\n",
       "    <tr>\n",
       "      <th>7482879</th>\n",
       "      <td>Thoughtcast</td>\n",
       "      <td>affinity</td>\n",
       "      <td>0.591028</td>\n",
       "    </tr>\n",
       "    <tr>\n",
       "      <th>3358479</th>\n",
       "      <td>Into Thin Air</td>\n",
       "      <td>affinity</td>\n",
       "      <td>0.499337</td>\n",
       "    </tr>\n",
       "    <tr>\n",
       "      <th>6815610</th>\n",
       "      <td>Steelfin Whale</td>\n",
       "      <td>affinity</td>\n",
       "      <td>0.480883</td>\n",
       "    </tr>\n",
       "    <tr>\n",
       "      <th>730647</th>\n",
       "      <td>Blinkmoth Infusion</td>\n",
       "      <td>affinity</td>\n",
       "      <td>0.474527</td>\n",
       "    </tr>\n",
       "    <tr>\n",
       "      <th>5347029</th>\n",
       "      <td>Quicksilver Behemoth</td>\n",
       "      <td>affinity</td>\n",
       "      <td>0.424388</td>\n",
       "    </tr>\n",
       "    <tr>\n",
       "      <th>863217</th>\n",
       "      <td>Broodstar</td>\n",
       "      <td>affinity</td>\n",
       "      <td>0.402339</td>\n",
       "    </tr>\n",
       "    <tr>\n",
       "      <th>1069437</th>\n",
       "      <td>Chromescale Drake</td>\n",
       "      <td>affinity</td>\n",
       "      <td>0.385669</td>\n",
       "    </tr>\n",
       "    <tr>\n",
       "      <th>459615</th>\n",
       "      <td>Assert Authority</td>\n",
       "      <td>affinity</td>\n",
       "      <td>0.381496</td>\n",
       "    </tr>\n",
       "    <tr>\n",
       "      <th>3548496</th>\n",
       "      <td>Junk Winder</td>\n",
       "      <td>affinity</td>\n",
       "      <td>0.360258</td>\n",
       "    </tr>\n",
       "    <tr>\n",
       "      <th>7307592</th>\n",
       "      <td>Tezzeret, Master of the Bridge</td>\n",
       "      <td>affinity</td>\n",
       "      <td>0.297667</td>\n",
       "    </tr>\n",
       "    <tr>\n",
       "      <th>2215431</th>\n",
       "      <td>Ethersworn Sphinx</td>\n",
       "      <td>affinity</td>\n",
       "      <td>0.288181</td>\n",
       "    </tr>\n",
       "    <tr>\n",
       "      <th>7902684</th>\n",
       "      <td>Urza, Chief Artificer</td>\n",
       "      <td>affinity</td>\n",
       "      <td>0.257702</td>\n",
       "    </tr>\n",
       "  </tbody>\n",
       "</table>\n",
       "</div>"
      ],
      "text/plain": [
       "                               document      term     tfidf\n",
       "7472568                 Thought Monitor  affinity  0.666206\n",
       "5367651                         Qumulox  affinity  0.607101\n",
       "6556362               Somber Hoverguard  affinity  0.607101\n",
       "7482879                     Thoughtcast  affinity  0.591028\n",
       "3358479                   Into Thin Air  affinity  0.499337\n",
       "6815610                  Steelfin Whale  affinity  0.480883\n",
       "730647               Blinkmoth Infusion  affinity  0.474527\n",
       "5347029            Quicksilver Behemoth  affinity  0.424388\n",
       "863217                        Broodstar  affinity  0.402339\n",
       "1069437               Chromescale Drake  affinity  0.385669\n",
       "459615                 Assert Authority  affinity  0.381496\n",
       "3548496                     Junk Winder  affinity  0.360258\n",
       "7307592  Tezzeret, Master of the Bridge  affinity  0.297667\n",
       "2215431               Ethersworn Sphinx  affinity  0.288181\n",
       "7902684           Urza, Chief Artificer  affinity  0.257702"
      ]
     },
     "execution_count": 129,
     "metadata": {},
     "output_type": "execute_result"
    }
   ],
   "source": [
    "model_u[model_u['term'].str.contains('affinity')].sort_values('tfidf', ascending=False)"
   ]
  },
  {
   "cell_type": "code",
   "execution_count": 130,
   "metadata": {},
   "outputs": [
    {
     "data": {
      "text/plain": [
       "1692"
      ]
     },
     "execution_count": 130,
     "metadata": {},
     "output_type": "execute_result"
    }
   ],
   "source": [
    "filter = model_u.groupby('document').filter(lambda group: 'draw' in group['term'].values and 'card' in group['term'].values)\n",
    "filter[filter['term'].isin(['draw', 'card'])].shape[0]\n"
   ]
  },
  {
   "cell_type": "code",
   "execution_count": 132,
   "metadata": {},
   "outputs": [],
   "source": [
    "def queryTwo(models, w1, w2):\n",
    "    for i, model in enumerate(models):\n",
    "        print(\"Color: \" + colors[i])\n",
    "        filter = model.groupby('document').filter(lambda group: w1 in group['term'].values and w2 in group['term'].values)\n",
    "        count = filter[filter['term'].isin([w1, w2])].shape[0]\n",
    "        print(count)\n"
   ]
  },
  {
   "cell_type": "code",
   "execution_count": 147,
   "metadata": {},
   "outputs": [
    {
     "name": "stdout",
     "output_type": "stream",
     "text": [
      "Color: W\n",
      "196\n",
      "Color: U\n",
      "542\n",
      "Color: B\n",
      "252\n",
      "Color: R\n",
      "466\n",
      "Color: G\n",
      "154\n",
      "Color: colorless\n",
      "70\n"
     ]
    }
   ],
   "source": [
    "queryTwo(models, 'discard', 'draw')"
   ]
  }
 ],
 "metadata": {
  "kernelspec": {
   "display_name": "Python 3",
   "language": "python",
   "name": "python3"
  },
  "language_info": {
   "codemirror_mode": {
    "name": "ipython",
    "version": 3
   },
   "file_extension": ".py",
   "mimetype": "text/x-python",
   "name": "python",
   "nbconvert_exporter": "python",
   "pygments_lexer": "ipython3",
   "version": "3.11.4"
  }
 },
 "nbformat": 4,
 "nbformat_minor": 2
}
