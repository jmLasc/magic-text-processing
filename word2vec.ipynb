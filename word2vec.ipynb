{
 "cells": [
  {
   "cell_type": "markdown",
   "metadata": {},
   "source": [
    "This notebook is intended to do some fun stuff with word2vec"
   ]
  },
  {
   "cell_type": "code",
   "execution_count": 1,
   "metadata": {},
   "outputs": [],
   "source": [
    "%matplotlib inline\n",
    "import numpy as np\n",
    "import matplotlib.pyplot as plt\n",
    "import gensim\n",
    "import re\n",
    "import nltk\n",
    "from sklearn.decomposition import PCA\n",
    "from gensim.models import Word2Vec\n",
    "from basic import *"
   ]
  },
  {
   "cell_type": "code",
   "execution_count": 2,
   "metadata": {},
   "outputs": [],
   "source": [
    "raw = fetchData(\"cards.json\")\n",
    "data = cleanData(raw)\n",
    "colors = list(data.keys())"
   ]
  },
  {
   "cell_type": "code",
   "execution_count": 3,
   "metadata": {},
   "outputs": [],
   "source": [
    "def tokenizeByCard(listColor): # This takes ONE list, e.g. 'W'\n",
    "    tokensList = []\n",
    "\n",
    "    for cardDict in listColor:\n",
    "        if 'oracle_text' in list(cardDict.keys()):\n",
    "            tokens = nltk.word_tokenize(cardDict['oracle_text'])\n",
    "            tokensList.append(tokens)\n",
    "\n",
    "    return tokensList\n",
    "\n",
    "tokens = []\n",
    "for i, key in enumerate(data.keys()):\n",
    "    tokens.append(tokenizeByCard(data[key]))"
   ]
  },
  {
   "cell_type": "code",
   "execution_count": 4,
   "metadata": {},
   "outputs": [],
   "source": [
    "total = []\n",
    "for colorlist in tokens:\n",
    "    for sentence in colorlist:\n",
    "        total.append(sentence)"
   ]
  },
  {
   "cell_type": "code",
   "execution_count": 21,
   "metadata": {},
   "outputs": [
    {
     "name": "stdout",
     "output_type": "stream",
     "text": [
      "done\n"
     ]
    }
   ],
   "source": [
    "model = Word2Vec(total, vector_size=100, window=5, min_count=5, workers=8)\n",
    "print(\"done\")"
   ]
  },
  {
   "cell_type": "code",
   "execution_count": 22,
   "metadata": {},
   "outputs": [
    {
     "name": "stdout",
     "output_type": "stream",
     "text": [
      "['.', ',', '}', '{', 'a', 'the', 'creature', 'you', 'CARDNAME', 'of', 'your', 'to', 'card', ':', 'it', 'target', 'control', 'this', 'battlefield', 'turn', 'or', 'and', '(', ')', 'that', 'on', 'with', 'end', 'Whenever', 'may', 'enters', 'from', \"'s\", 'When', 'damage', '1', 'player', 'cast', 'each', 'until', 'T', 'spell', 'an', 'cards', '2', 'put', \"n't\", '+1/+1', 'for', 'as', 'its', 'creatures', 'hand', 'You', 'graveyard', 'counter', 'If', 'deals', 'library', 'gets', 'life', 'mana', 'is', 'opponent', 'any', 'X', 'one', 'if', 'ca', 'two', 'Flying', 'artifact', 'token', 'beginning', 'in', '—', '3', 'be', 'B', 'R', 'into', 'G', 'U', 'Add', 'gain', 'cost', 'then', 'Target', 'Sacrifice', 'counters', 'land', 'At', 'W', 'top', 'gains', 'combat', 'has', 'do', 'number', 'This', 'draw', 'exile', 'permanent', 'create', 'more', 'power', 'Put', 'all', 'have', 'at', 'attacks', 'upkeep', 'only', 'their', '``', \"''\", 'tapped', 'step', 'It', 'flying', 'pay', 'blocked', 'up', 'equal', 'other', '•', 'another', 'sorcery', 'next', 'get', 'Draw', 'controls', 'under', 'less', 'long', 'by', 'owner', 'becomes', 'As', 'Exile', 'three', '1/1', 'haste', 'return', 'dies', 'color', '4', 'sacrifice', 'Create', 'choose', 'Return', 'value', 'untap', 'would', 'onto', 'Destroy', 'them', 'strike', 'Each', 'dealt', 'Enchant', 'copy', 'white', 'reveal', 'controller', 'black', 'are', 'shuffle', 'can', 'green', 'than', 'way', 'where', 'spells', 'planeswalker', 'time', 'Choose', 'Enchanted', 'tokens', 'loses', 'among', 'additional', 'instead', 'trample', 'unless', 'instant', 'first', 'attacking', 'attack', 'was', 'enchantment', 'block', 'Discard', 'nonland', 'ability', 'during', 'Activate', 'bottom', 'discard', 'without', 'they', 'abilities', 'Then', 'C', 'destroy', 'red', 'toughness', 'face', '5', 'Creatures', 'enchanted', 'those', 'exiled', 'Trample', 'costs', '2/2', 'rest', 'except', '+1/+0', 'random', 'permanents', 'order', '+2/+2', 'paying', 'type', 'lands', 'Equip', 'opponents', '-1/-1', 'and/or', 'tap', 'vigilance', 'Tap', 'Search', 'four', 'discards', 'blue', 'chosen', 'Until', 'no', 'lose', 'does', 'lifelink', 'targets', 'defending', 'greater', 'Flash', 'The', 'able', 'search', 'They', 'basic', 'colorless', 'remove', 'Vigilance', 'untapped', 'types', 'Look', 'deal', 'down', 'Counter', 'sacrifices', 'Equipped', 'play', 'Remove', 'That', 'named', 'Untap', 'artifacts', 'Other', 'many', 'after', 'pays', 'name', 'indestructible', 'Haste', 'blocking', 'Prevent', 'there', 'legendary', '+2/+0', 'look', 'Zombie', 'kicked', 'five', 'choice', 'noncreature', 'add', 'Treasure', 'game', 'For', 'Spirit', 'though', 'E', 'total', 'deathtouch', 'First', 'addition', 'leaves', 'draws', 'spent', 'much', 'activate', 'once', 'nontoken', 'blocks', 'Regenerate', 'attached', '+1', 'own', 'Kicker', 'Cycling', 'Warrior', 'reveals', 'same', 'seven', 'menace', 'scry', 'Defender', 'both', 'Equipment', 'All', 'double', 'also', 'revealed', 'paid', 'Dragon', 'Menace', 'Soldier', 'Pay', 'players', 'mills', 'III', '3/3', '4/4', 'casts', 'source', 'had', 'equipped', 'new', 'base', 'activated', '6', 'flashback', 'protection', 'reach', 'amount', 'Human', 'Attach', 'Aura', 'hexproof', 'phase', 'still', 'Reach', 'Deathtouch', 'Forest', 'Reveal', 'perpetually', \"'\", 'charge', 'Your', '+3/+3', 'plus', 'Turn', 'rather', 'colors', '0', 'sacrificed', 'not', 'Elemental', 'age', 'Scry', 'Flashback', 'were', 'Island', 'Swamp', 'Damage', 'poison', 'puts', 'enter', 'mill', 'Any', 'last', 'Goblin', 'Army', 'before', \"'re\", 'Otherwise', 'A', 'regenerated', 'while', '0/0', 'become', \"'ve\", 'Lifelink', 'Food', 'could', 'morph', 'second', 'commander', 'who', 'attacked', 'chooses', 'prevent', 'shuffles', '7', 'Plains', 'remains', 'Morph', 'Saga', 'lore', 'creates', 'chaos', 'Elf', 'Gain', 'countered', 'Protection', 'form', 'Sliver', 'causes', 'flip', 'exiles', 'anywhere', 'Spend', 'removed', 'defender', 'ensues', 'Its', '−2', 'snow', 'Phyrexian', 'triggers', 'Double', 'least', '10', 'I', '+X/+X', 'II', 'Cast', 'different', 'did', 'owners', 'attach', 'To', 'Landfall', 'Players', 'either', 'graveyards', 'Saproling', 'Vampire', 'six', '−3', 'Mountain', 'destroyed', 'win', 'Partner', 'twice', 'effect', 'casting', 'Vehicle', 'Unearth', 'oil', 'Wizard', 'alone', 'die', 'emblem', 'out', 'Knight', 'discarded', 'times', 'planeswalkers', 'loyalty', 'controlled', '+X/+0', 'commanders', 'kind', 'ten', 'S', 'died', 'fights', 'devotion', 'phases', 'enchantments', 'help', 'hands', '-2/-2', 'effects', 'greatest', 'lost', 'mutate', 'Arcane', 'zone', 'copies', '|', 'banding', 'monarch', 'being', 'Devoid', 'steps', '☐', 'when', 'share', 'monstrous', 'W/B', 'historic', 'resolves', 'Attacking', 'spend', 'leave', 'Rogue', 'turned', 'Angel', 'Cleric', 'ward', '+2/+1', 'cycle', 'main', 'Cumulative', '8', 'Beast', 'shroud', 'nonblack', 'Dinosaur', '+0/+1', 'Level', 'Ward', 'excess', 'Indestructible', 'command', 'Spells', 'scheme', 'flash', 'votes', '5/5', 'Convoke', 'half', 'coin', 'Threshold', 'multicolored', 'room', 'shares', 'Bird', '−7', 'Ally', 'Hexproof', 'Crew', 'Merfolk', '+2', 'An', 'shadow', '+3/+0', 'size', 'non-Human', 'X/X', 'Ring', 'lesser', 'During', 'back', 'enchant', 'Zombies', 'Clue', 'party', 'divided', 'dungeon', 'starting', 'most', 'entered', 'already', 'Creature', 'Those', 'specializes', '+0/+2', 'fewer', 'say', 'conjure', 'energy', 'Mill', 'enough', 'tempts', 'U/R', 'nonartifact', 'give', '+4/+4', 'foretell', 'Orc', 'rounded', 'turns', 'Wolf', 'R/W', 'returns', '0/1', 'planeswalk', 'investigate', 'Up', 'been', 'Insect', 'nonbasic', 'cause', 'Cat', 'shield', 'Auras', 'kicker', 'Copy', 'madness', 'partner', 'tied', 'Role', 'Artifacts', 'motion', 'Suspend', 'set', 'draft', 'extra', 'prevented', 'deck', 'proliferate', '-X/-X', 'Slivers', 'Demon', 'While', 'maximum', 'attackers', 'produce', 'since', 'roll', 'every', 'gained', '−1', 'outside', 'Domain', 'exactly', 'again', 'must', '20', 'Citizen', 'Eldrazi', 'highest', 'Doctor', 'level', '+1/+2', '−8', 'explores', 'unblocked', 'Another', 'Background', 'change', 'Madness', 'Islands', 'triggered', '−6', 'pile', ';', 'Blood', 'surveil', 'echo', 'lasts', 'Orcs', 'eight', 'toxic', '-2/-0', 'blessing', 'combination', 'declared', 'renowned', 'Rather', 'remain', 'Cascade', 'indefinitely', '+1/-1', 'whenever', 'Prowess', 'storage', 'Changeling', 'city', 'putting', 'exist', 'milled', 'Golem', 'Mountains', 'came', 'over', 'fear', 'Exalted', 'vote', 'assigns', 'adds', 'single', 'third', 'Echo', 'seek', 'Faerie', 'B/G', 'G/U', 'Pirate', 'Delirium', 'targeted', 'stun', 'amass', 'duplicate', 'Foretell', 'Forests', 'later', 'Shuffle', 'Sagas', 'Mutate', 'paired', 'beyond', 'companion', 'Thopter', 'spellbook', 'Q', 'day', 'Artifact', 'process', 'Samurai', 'depletion', 'Dragons', 'Ninjutsu', 'LEVEL', 'Construct', '-3/-3', 'discarding', 'Elves', 'd20', '2/1', 'horsemanship', 'comes', 'left', 'battle', 'names', 'flanking', 'Toxic', 'night', 'take', 'fade', 'Wall', 'Infect', 'legendaries', 'Fear', 'attacker', 'band', 'advance', 'group', 'Bands', 'trigger', 'Horror', 'Rat', 'G/W', 'text', 'Giant', 'anything', 'mutates', 'Myr', 'suspend', 'Incubator', 'piles', 'Starting', 'venture', 'created', '9', 'Transform', 'Heroic', 'cascade', 'Humans', 'returned', 'but', 'Swampwalk', 'face-down', 'Do', 'Affinity', 'Enter', 'nonlegendary', 'divide', 'Swamps', '+5/+5', 'Magecraft', 'bestow', 'experience', 'Bestow', '3/2', 'escape', 'mode', 'intensity', 'Powerstone', 'Buyback', 'Shadow', 'Mana', 'conspiracy', 'Surveil', 'Shroud', 'represents', 'Channel', 'forestwalk', 'B/R', 'spore', 'Islandwalk', 'Scavenge', 'wo', 'goad', 'so', 'transforms', 'Treefolk', 'R/G', 'precombat', 'quest', 'Constellation', 'Servo', 'stack', 'Monstrosity', 'Raid', 'controllers', 'symbol', 'phased', 'soon', 'Proliferate', 'Roll', 'treated', 'team', 'After', 'higher', 'U/B', 'connives', 'sources', 'Snake', 'result', 'Instant', 'Flip', 'chose', 'difference', 'Goblins', 'Commander', '-1/-0', 'Reconfigure', 'toward', 'counts', 'Bushido', 'Gate', '+0/+3', 'exert', 'Metalcraft', 'W/U', '3/1', 'Desert', 'monocolored', 'Activated', 'encoded', 'Transmute', 'Embalm', 'declare', 'entwine', 'Take', 'Entwine', 'libraries', 'Escape', 'produced', 'repeat', 'minus', 'IV', 'values', 'wins', 'Kithkin', 'Rebel', 'initiative', 'taps', 'blitz', 'Conjure', 'Persist', 'Wither', 'megamorph', 'Exchange', 'decayed', 'secretly', 'Forestwalk', 'Splice', 'first-strike', 'regular', 'consists', 'splice', 'Once', 'Megamorph', 'Shrine', 'Rebound', 'Storm', 'egg', 'goaded', 'Evoke', 'Vehicles', 'Change', 'equip', 'Amass', 'forever', 'pair', 'drawn', 'true', 'Flanking', 'exchange', 'Seek', 'suspended', 'Plant', 'incubate', 'Werewolf', 'Squirrel', 'reduced', 'islandwalk', '+3/+1', 'whose', 'replicate', 'overload', 'Spirits', 'Corrupted', 'exerted', 'Overload', 'fight', '2/3', 'Lands', '!', 'populate', 'Ascend', 'Bear', 'Vampires', 'Goad', 'clashing', ']', '[', 'following', 'Imprint', 'Bloodthirst', 'Devour', 'Delve', 'Hellbent', 'move', '-4/-4', 'Scion', 'verse', 'Basic', 'exploits', 'Backup', 'drew', 'blockers', 'White', '6/6', 'Legendary', 'owns', 'Skeleton', 'Soulshift', 'Hydra', 'untaps', 'Start', '-3/-0', 'Spider', 'swampwalk', 'Minotaur', 'powers', 'reduces', 'evoke', 'distribute', 'Mentor', 'Devil', 'Black', '+1/+3', 'Blitz', '19', 'resolved', 'Exploit', 'unspent', 'modifications', 'unpaired', 'Dash', 'manifest', 'descended', 'activating', 'Horsemanship', '−9', 'Enrage', 'Intimidate', 'Outlast', 'completed', 'dash', 'Illusion', 'landcycling', 'Warriors', 'Soulbond', 'Switch', 'Modular', 'colored', 'Will', 'Walls', 'Spawn', 'Converge', 'intimidate', 'sacrificing', 'Draft', 'Ooze', 'common', 'itself', 'planar', 'Adventure', 'Lesson', 'Split', '8/8', 'done', '−X', '−10', 'Companion', 'assign', 'Investigate', 'unattached', 'bargained', 'noncombat', 'Battle', 'skips', 'Eternalize', 'Bargain', 'Hero', 'else', 'non-Wall', 'Fractal', 'Vanishing', 'Morbid', 'Distribute', 'council', 'Green', 'Knights', 'infect', 'villainous', 'nine', 'Spell', 'noted', 'Coven', 'Encore', 'start', 'modified', 'unattach', 'God', '+2/-2', 'Wizards', 'skip', 'Alliance', 'Strive', 'Lord', 'Renown', 'Ferocious', 'Dwarf', 'Undying', 'Instead', 'Evolve', 'Skip', 'even', 'Inspired', 'sickness', 'divinity', 'instances', 'Descend', 'armor', 'chapter', 'Move', 'blood', 'landwalk', 'right', 'Permanents', 'bands', 'opening', 'loss', 'Improvise', 'apply', 'Prototype', 'non-Aura', 'reduce', 'Ninja', 'No', 'which', 'keeps', 'Multikicker', 'Specialize', 'Berserker', 'faces', 'searches', 'between', '+4/+0', 'example', 'Dalek', 'Revolt', 'summoning', 'Treat', 'Extort', 'words', 'twenty', 'playing', 'mastery', 'Mite', 'Time', 'Retrace', 'Fading', 'Kraken', 'Leads', '−5', 'begin', 'Unleash', '1/2', 'symbols', 'Play', 'Blue', 'study', 'Pirates', 'finality', 'Foods', 'Boast', 'Red', 'Adamant', '4/3', 'Wurm', 'unspecializes', 'spectacle', 'cleanup', 'boon', 'away', 'Battalion', 'Fungus', 'Horde', 'Adapt', '-4/-0', 'dice', 'U/P', 'Assist', 'note', 'Frog', 'friends', 'Friends', 'Casualty', 'Conspire', 'Rats', 'brackets', 'Revelers', 'square', 'cleave', 'Cleave', 'discover', 'stays', 'B/P', 'Treasures', 'Cipher', '-5/-5', '−4', 'convoke', 'Mirrodin', 'Nightmare', 'Rally', 'Learn', 'Mountainwalk', 'Clash', 'hour', 'crews', 'clash', 'cry', 'Master', 'Eminence', 'Miracle', 'miracle', 'Shaman', 'Myriad', 'Sunburst', 'Dredge', 'separates', 'prowl', 'booster', 'searched', 'Totem', 'Gates', 'Training', 'bounty', 'bolster', 'Awaken', 'cycling', 'Ring-bearer', 'dream', 'Centaur', 'Riot', 'wither', 'Cave', 'plays', 'Undergrowth', 'Inkling', 'Replicate', 'neither', 'Bloodrush', 'Hideaway', 'Soldiers', 'Discover', 'activation', 'contains', 'Ravenous', 'entering', 'bid', 'non-Lair', 'Germ', 'Rhino', 'Only', 'Mercenary', 'Champion', 'One', 'Reward', 'Graft', 'Jump-start', 'agenda', '−11', '%', 'emerge', 'Shapeshifter', 'Class', '13', 'rule', 'W/P', 'face-up', '+3/+2', 'ice', 'Living', 'legend', 'weapon', 'drafted', 'nonwhite', 'ante', 'Hidden', 'Rampage', 'Skulk', 'Fabricate', 'Spectacle', 'flood', 'haunting', 'Dog', 'replacing', 'surge', 'soul', 'Banding', 'Rasputin', 'Urza', 'page', 'pack', 'Bat', 'nonattacking', 'Repeat', 'Omnath', 'how', 'Forecast', 'Elephant', 'exalted', 'Alien', 'Pest', 'activates', 'nor', 'Venture', '3/4', 'Boo', 'Formidable', 'Celebration', 'doom', 'crew', 'him', 'Emerge', 'Kavu', 'includes', 'Noncreature', 'Dinosaurs', 'kinds', 'G/P', 'Phasing', 'Astartes', 'Serpent', 'Afterlife', 'growth', 'escapes', 'Monster', 'Outlaw', 'Enlist', 'Parley', 'Kor', 'Halfling', 'Boar', 'Manifest', 'Shrines', '9/9', 'Sand', 'crewed', 'played', 'Kobolds', 'Map', 'produces', 'Surge', 'odd', 'detain', 'choices', 'Tribute', 'tribute', 'Frodo', 'ongoing', 'full', 'Seraph', 'Shattered', 'unearth', 'increase', 'haunts', 'Melee', 'Rakish', 'encounter', 'Haunt', 'fuse', 'Egg', 'double-faced', 'Death', 'voting', 'high', '-1/+1', 'Radiance', 'lowest', 'plague', 'ki', 'Chandra', 'postcombat', 'Scarecrow', 'Allies', 'feather', 'Rogues', 'fate', 'Goat', 'Thrull', 'Addendum', '-X/-0', 'R/P', 'Kinship', 'Monk', '7/7', 'Tyranid', 'tide', '+2/-1', 'Dethrone', 'Kobold', 'Adjudicators', 'Spara', 'Glamorous', 'corruption', '0/2', 'myriad', 'teammate', 'word', 'mountainwalk', 'travel', 'Curse', 'Faeries', 'Compleated', 'Wolves', 'Paradox', 'Clerics', 'devoured', '+7/+7', 'Populate', 'Assassin', 'followed', 'Lieutenant', 'encore', 'Incubate', 'represent', 'phenomenon', 'abandoned', '+6/+6', 'ahead', 'Skipped', 'chapters', 'separate', 'Hamster', 'Gargoyle', 'everything', 'Demons', 'Bolster', 'abandon', 'foretold', 'Fish', 'Effects', 'ignore', 'Imoen', 'support', 'including', '+3/-3', 'Skanos', 'Bolas', 'off', 'wears', 'Annihilator', 'crystal', 'Cyberman', '1/4', 'Homunculus', 'coolness', 'affected', 'Ingest', 'Octopus', 'dilemma', 'slime', 'brick', 'Kher', '-0/-1', 'non-Demon', 'changeling', 'Wicked', 'melee', 'separately', 'Elementals', '10/10', 'ninjutsu', 'duplicates', 'Prowl', 'Reinforce', 'nongreen', 'Read', 'bribery', 'direction', 'Chaos', 'Council', 'Khans', 'totals', 'flips', 'coins', '4/1', 'Keep', 'friend', 'foe', 'whether', 'Two', 'skulk', 'multiple', 'Kyodai', 'Pegasus', 'Fateful', 'Locus', 'Cohort', 'connive', 'Unattach', 'Avatar', 'Saprolings', 'looked', 'plainswalk', 'Cats', 'casualty', 'Ox', 'Pack', 'tactics', 'Druid', '4/2', 'Sorcerer', 'cumulative', '+X/-X', 'he', 'Amplify', 'Planeswalkers', 'Hunt', 'Drake', 'Afflict', 'Tyvar', 'non-Dragon', 'takes', 'guessed', 'Nissa', 'Darigaaz', 'Bandits', 'Chroma', 'final', 'Land', 'Plainscycling', '100', 'whichever', 'Jeleva', 'instance', 'meld', 'voted', '5/3', 'Wraith', 'come', 'Phyrexians', 'regenerate', '-2/-1', 'Masked', 'rampage', 'Korvold', 'identity', 'Mishra', 'divides', 'Gnome', 'mark', 'Squad', 'toy', 'Mountaincycling', 'Gideon', '2/4', 'death', '14', 'Support', 'Jace', 'differently', 'hit', 'Wraiths', 'Nonartifact', 'looks', 'count', 'Reflection', 'thirteen', 'Griffin', 'descent', 'Liliana', 'Mine', 'Provoke', 'longer', 'Cards', 'others', 'Garruk', 'fewest', 'Colorless', 'Multicolored', 'King', 'Whispers', '+0/+4', 'Escalate', 'plane', 'self', '−12', 'X.', 'Werewolves', 'heal', 'learn', 'Pilot', 'Round', 'Secret', 'Three', '+3', 'Ajani', 'Aragorn', 'Midnight', 'Ogre', 'Head', 'Enchantment', 'Minotaurs', '12', 'twelve', 'Them', 'Golems', 'Recover', 'Power', 'non-Zombie', 'Forestcycling', 'bidding', 'Xenagos', 'Islandcycling', 'Their', 'Squirrels', 'Terror', 'fungus', 'nonenchantment', '+4/+2', 'Twin', 'Swampcycling', 'upkeeps', 'ends', 'Nontoken', '5/4', 'Satyr', 'Sonic', 'Assembly-Worker', 'cycles', 'Hanweir', 'Sphinx', 'offer', 'scrying', 'non-Spirit', '+2/+4', 'persist', 'Phoenix', 'point', '+5/+0', '4+', 'Tahngarth', 'Polukranos', 'Dwarves', 'Exert', 'Snow', 'Syr', 'make', '1-2', 'Fathomless', 'here', 'empty', '3+', 'Piles', 'wish', 'Mark', 'Grimgrin', 'guesses', 'eleven', 'having', 'begins', 'Angels', 'Dogs', 'Enkira', '1/3', 'sleight', 'corpse', 'Breath', 'Skeletons', 'wind', 'renown', '2/5', 'Melds', 'undying', 'rust', 'Immard', 'burden', 'End', 'tails', '-0/-2', 'Birds', 'slumber', 'Xander', '15+', 'Body', 'exploit', 'TARDIS', 'discovery', 'Atog', 'Keimi', 'Skemfar', 'Shadowheart', 'reselect', 'Necron', 'Vraska', 'cage', 'pool', 'infection', 'six-sided', 'Hippo', 'healing', 'rebound', 'Merry', '15', 'flame', 'Nonland', 'Psychic', 'tribal', 'Scout', 'Duggan', 'Tetsuo', 'won', 'rad', 'book', 'Civil', '-6/-0', 'annihilator', 'explore', 'Djinn', 'VI', 'Arek', 'Artificer', 'Zero', 'Migloz', 'Mutant', 'Counters', 'Servant', 'evidence', 'survive', 'Hand', 'Worker', 'Undaunted', 'offering', 'Marath', 'Cursed', 'round', 'Jenny', 'Flame', 'complete', 'Empires', 'pressure', 'delay', 'Perrie', 'cycled', 'Tanazir', '0/3', '2/R', 'Beasts', 'Doctors', 'scavenge', '2/B', 'Garza', 'Zol', '2/U', 'filibuster', 'Maarika', 'Fire', 'Shivan', 'Excess', 'Blade', 'Grakmaw', 'unchanged', 'planeswalks', 'heads', 'haunted', 'collection', '2/G', 'Leviathan', 'Quandrix', 'Rubinia', 'Lair', 'convoked', 'continuously', 'Me', 'scream', 'using', '4/5', 'Strax', 'disturb', 'numbers', 'Etrata', 'Stangg', 'Monkey', 'Modified', 'prowess', 'Darksteel', 'blaze', 'Heroes', 'devour', 'Deep', 'non-Elf', 'Walker', 'Tower', 'Troll', 'riot', 'retrace', 'aim', 'Kaldra', 'mire', 'void', 'Ray', '25', 'Mines', 'Gimli', 'Ape', 'simultaneously', 'Plate', 'Royal', 'just', 'Pigs', 'non-Saga', 'Demonstrate', 'Join', 'forces', 'wrong', '1/5', 'Cartouche', 'Nonbasic', 'Timing', 'rules', 'Epic', 'epic', 'Robot', '8/12', 'Disenchant', 'Braingeyser', 'Regrowth', 'Lotus', '+0/+5', 'Planeswalker', 'Young', 'Karona', 'nonsnow', 'yet', 'Tempting', 'Count', 'Loyal', '2/W', 'works', '3/5', 'regenerates', 'transform', 'Rex', 'need', '+0/+X', 'nearest', 'gone', 'adventure', 'Devils', 'Teferi', 'Blocking', 'Ripple', 'Zubera', 'Grandeur', 'poisoned', 'jump-start', '5+', 'Archer', 'generic', 'Lost', 'magnet', 'amassed', 'phasing', 'mutated', 'fetch', 'Before', 'Face-down', 'Salamander', 'Shark', 'use', 'Stimulus', 'Timeless', 'above', 'embalm', 'exploited', 'exiling', 'Gremlin', 'Dark', 'Daleks', 'Graveborn', '-13/-13', 'Gold', 'afflict', 'Control', 'Inspiration', 'vanishing', '+5/+3', '-5/-0', 'Sisay', '-2/+2', 'cooler', 'Rainboom', 'cool', 'reset', 'resolving', 'Note', 'Perpetually', 'Crab', 'transformed', 'Ramos', 'gold', 'dethrone', 'Sentinel', 'quality', 'Warlock', 'Lightning', 'Nicol', 'active', 'moves', 'backup', 'switch', 'scroll']\n"
     ]
    }
   ],
   "source": [
    "print(model.wv.index_to_key) # a LOT of garbage keys here!"
   ]
  },
  {
   "cell_type": "code",
   "execution_count": 35,
   "metadata": {},
   "outputs": [
    {
     "data": {
      "text/plain": [
       "[('Faeries', 0.6030057668685913),\n",
       " ('Samurai', 0.5962657928466797),\n",
       " ('Scarecrow', 0.5832241177558899),\n",
       " ('Devils', 0.5828883051872253),\n",
       " ('Demons', 0.569604754447937),\n",
       " ('Werewolves', 0.5640108585357666),\n",
       " ('Rogues', 0.5592048168182373),\n",
       " ('Warlock', 0.5563730001449585),\n",
       " ('Vampire', 0.5537480711936951),\n",
       " ('Wizard', 0.5466769337654114)]"
      ]
     },
     "execution_count": 35,
     "metadata": {},
     "output_type": "execute_result"
    }
   ],
   "source": [
    "model.wv.most_similar('Ninja')"
   ]
  },
  {
   "cell_type": "code",
   "execution_count": 26,
   "metadata": {},
   "outputs": [],
   "source": [
    "bigmodel = model.wv"
   ]
  },
  {
   "cell_type": "code",
   "execution_count": 86,
   "metadata": {},
   "outputs": [
    {
     "data": {
      "text/plain": [
       "[('Trample', 0.6127300262451172),\n",
       " ('Vigilance', 0.6000204086303711),\n",
       " ('Haste', 0.5468095541000366),\n",
       " ('Reach', 0.5261021852493286),\n",
       " ('Deathtouch', 0.4898116886615753),\n",
       " ('Menace', 0.4765895903110504),\n",
       " ('Evolve', 0.41500890254974365),\n",
       " ('Lifelink', 0.40652599930763245),\n",
       " ('Ring', 0.3817656636238098),\n",
       " ('nontoken', 0.3785175383090973)]"
      ]
     },
     "execution_count": 86,
     "metadata": {},
     "output_type": "execute_result"
    }
   ],
   "source": [
    "bigmodel.most_similar(positive=['Flying', 'Human'], negative=['Bird']) # didn't mention but still pretty cool!"
   ]
  },
  {
   "cell_type": "code",
   "execution_count": 59,
   "metadata": {},
   "outputs": [
    {
     "data": {
      "text/plain": [
       "[('Wizard', 0.8215115666389465),\n",
       " ('Cleric', 0.7945361733436584),\n",
       " ('Warrior', 0.7735680937767029),\n",
       " ('white', 0.6414873600006104),\n",
       " ('red', 0.5922152400016785),\n",
       " ('black', 0.5818275213241577),\n",
       " ('Human', 0.5797330141067505),\n",
       " ('blue', 0.5793746113777161),\n",
       " ('green', 0.5567083954811096),\n",
       " ('Samurai', 0.5470237731933594)]"
      ]
     },
     "execution_count": 59,
     "metadata": {},
     "output_type": "execute_result"
    }
   ],
   "source": [
    "bigmodel.most_similar(positive=['Rogue', 'Devils'], negative=['Faeries']) # didn't mention but still pretty cool!"
   ]
  },
  {
   "cell_type": "code",
   "execution_count": 61,
   "metadata": {},
   "outputs": [
    {
     "data": {
      "text/plain": [
       "'Vampire'"
      ]
     },
     "execution_count": 61,
     "metadata": {},
     "output_type": "execute_result"
    }
   ],
   "source": [
    "bigmodel.doesnt_match(['Vampire', 'Warlock', 'Fighter', 'Ranger'])"
   ]
  },
  {
   "cell_type": "code",
   "execution_count": 62,
   "metadata": {},
   "outputs": [
    {
     "data": {
      "text/plain": [
       "'Cleric'"
      ]
     },
     "execution_count": 62,
     "metadata": {},
     "output_type": "execute_result"
    }
   ],
   "source": [
    "bigmodel.doesnt_match(['Vampire', 'Cleric', 'Dinosaur', 'Faerie'])"
   ]
  },
  {
   "cell_type": "code",
   "execution_count": 63,
   "metadata": {},
   "outputs": [
    {
     "data": {
      "text/plain": [
       "'+1/+1'"
      ]
     },
     "execution_count": 63,
     "metadata": {},
     "output_type": "execute_result"
    }
   ],
   "source": [
    "bigmodel.doesnt_match(['Trample', 'Haste', '+1/+1', 'Flying'])"
   ]
  },
  {
   "cell_type": "code",
   "execution_count": 76,
   "metadata": {},
   "outputs": [
    {
     "data": {
      "text/plain": [
       "'discard'"
      ]
     },
     "execution_count": 76,
     "metadata": {},
     "output_type": "execute_result"
    }
   ],
   "source": [
    "bigmodel.doesnt_match(['discard', 'remove', 'exile', 'destroy'])"
   ]
  }
 ],
 "metadata": {
  "kernelspec": {
   "display_name": "Python 3",
   "language": "python",
   "name": "python3"
  },
  "language_info": {
   "codemirror_mode": {
    "name": "ipython",
    "version": 3
   },
   "file_extension": ".py",
   "mimetype": "text/x-python",
   "name": "python",
   "nbconvert_exporter": "python",
   "pygments_lexer": "ipython3",
   "version": "3.11.4"
  }
 },
 "nbformat": 4,
 "nbformat_minor": 2
}
