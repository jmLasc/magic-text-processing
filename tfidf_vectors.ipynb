{
 "cells": [
  {
   "cell_type": "markdown",
   "metadata": {},
   "source": [
    "This notebook will evaluate the text using TFIDF and some other metrics."
   ]
  },
  {
   "cell_type": "code",
   "execution_count": 1,
   "metadata": {},
   "outputs": [],
   "source": [
    "import re\n",
    "import nltk\n",
    "import glob\n",
    "from basic import *"
   ]
  },
  {
   "cell_type": "code",
   "execution_count": 2,
   "metadata": {},
   "outputs": [],
   "source": [
    "raw = fetchData(\"cards.json\")\n",
    "data = cleanData(raw)"
   ]
  },
  {
   "cell_type": "code",
   "execution_count": 3,
   "metadata": {},
   "outputs": [
    {
     "name": "stdout",
     "output_type": "stream",
     "text": [
      "<class 'dict'>\n",
      "<class 'list'>\n",
      "<class 'dict'>\n",
      "dict_keys(['W', 'U', 'B', 'R', 'G', 'colorless'])\n",
      "dict_keys(['object', 'id', 'oracle_id', 'multiverse_ids', 'mtgo_id', 'arena_id', 'tcgplayer_id', 'cardmarket_id', 'name', 'lang', 'released_at', 'uri', 'scryfall_uri', 'layout', 'highres_image', 'image_status', 'image_uris', 'mana_cost', 'cmc', 'type_line', 'oracle_text', 'colors', 'color_identity', 'keywords', 'legalities', 'games', 'reserved', 'foil', 'nonfoil', 'finishes', 'oversized', 'promo', 'reprint', 'variation', 'set_id', 'set', 'set_name', 'set_type', 'set_uri', 'set_search_uri', 'scryfall_set_uri', 'rulings_uri', 'prints_search_uri', 'collector_number', 'digital', 'rarity', 'flavor_text', 'card_back_id', 'artist', 'artist_ids', 'illustration_id', 'border_color', 'frame', 'security_stamp', 'full_art', 'textless', 'booster', 'story_spotlight', 'edhrec_rank', 'preview', 'prices', 'related_uris', 'purchase_uris'])\n"
     ]
    }
   ],
   "source": [
    "# Check above processes worked\n",
    "print(type(data))\n",
    "print(type(data['W']))\n",
    "print(type(data['W'][0]))\n",
    "\n",
    "print(data.keys())\n",
    "print(data['W'][0].keys())"
   ]
  },
  {
   "cell_type": "code",
   "execution_count": 4,
   "metadata": {},
   "outputs": [],
   "source": [
    "def tokenizeBucket(listColor): # This takes ONE list, e.g. 'W'\n",
    "    tokensList = []\n",
    "\n",
    "    for cardDict in listColor:\n",
    "        if 'oracle_text' in list(cardDict.keys()):\n",
    "            tokens = nltk.word_tokenize(cardDict['oracle_text'])\n",
    "            for t in tokens:\n",
    "                tokensList.append(t)\n",
    "\n",
    "    return tokensList"
   ]
  },
  {
   "cell_type": "code",
   "execution_count": 5,
   "metadata": {},
   "outputs": [],
   "source": [
    "tokens = [] # will be a list(list(str))\n",
    "for key in data.keys():\n",
    "    tokens.append(tokenizeBucket(data[key]))"
   ]
  },
  {
   "cell_type": "code",
   "execution_count": 6,
   "metadata": {},
   "outputs": [],
   "source": [
    "stoplist = [\"{\", \"}\", 'W', 'U', 'B', 'R', 'G', \"T\", \"—\", \"TK\", \".\"]"
   ]
  },
  {
   "cell_type": "code",
   "execution_count": 7,
   "metadata": {},
   "outputs": [],
   "source": [
    "def print_common_bigrams(tokenlist, n):\n",
    "\n",
    "    tokenlist = [w for w in tokenlist if w not in stoplist] \n",
    "\n",
    "    raw = nltk.ngrams(tokenlist, 6)\n",
    "    fdist = nltk.FreqDist(raw)\n",
    "    for pair in fdist.most_common(n): # print n most common bigrams\n",
    "        print(pair[0]) # most_common gives list(tuple(tuple(str, str), int)) so this is how we extract the words2\n",
    "    print()\n"
   ]
  },
  {
   "cell_type": "code",
   "execution_count": 8,
   "metadata": {},
   "outputs": [
    {
     "name": "stdout",
     "output_type": "stream",
     "text": [
      "('When', 'CARDNAME', 'enters', 'the', 'battlefield', ',')\n",
      "(',', 'put', 'a', '+1/+1', 'counter', 'on')\n",
      "('damage', 'that', 'would', 'be', 'dealt', 'to')\n",
      "('CARDNAME', 'enters', 'the', 'battlefield', ',', 'you')\n",
      "('the', 'beginning', 'of', 'your', 'upkeep', ',')\n",
      "('the', 'battlefield', 'under', 'your', 'control', ',')\n",
      "('enters', 'the', 'battlefield', 'under', 'your', 'control')\n",
      "('from', 'your', 'graveyard', 'to', 'the', 'battlefield')\n",
      "('gets', '+1/+1', 'until', 'end', 'of', 'turn')\n",
      "('FlyingWhen', 'CARDNAME', 'enters', 'the', 'battlefield', ',')\n",
      "\n",
      "('When', 'CARDNAME', 'enters', 'the', 'battlefield', ',')\n",
      "('combat', 'damage', 'to', 'a', 'player', ',')\n",
      "('the', 'beginning', 'of', 'your', 'upkeep', ',')\n",
      "('deals', 'combat', 'damage', 'to', 'a', 'player')\n",
      "('on', 'the', 'bottom', 'of', 'your', 'library')\n",
      "('FlyingWhen', 'CARDNAME', 'enters', 'the', 'battlefield', ',')\n",
      "('CARDNAME', 'enters', 'the', 'battlefield', ',', 'you')\n",
      "('At', 'the', 'beginning', 'of', 'your', 'upkeep')\n",
      "('the', 'top', 'card', 'of', 'your', 'library')\n",
      "('enters', 'the', 'battlefield', ',', 'you', 'may')\n",
      "\n",
      "('When', 'CARDNAME', 'enters', 'the', 'battlefield', ',')\n",
      "('the', 'beginning', 'of', 'your', 'upkeep', ',')\n",
      "('from', 'your', 'graveyard', 'to', 'the', 'battlefield')\n",
      "('combat', 'damage', 'to', 'a', 'player', ',')\n",
      "('from', 'your', 'graveyard', 'to', 'your', 'hand')\n",
      "('ca', \"n't\", 'be', 'blocked', 'except', 'by')\n",
      "('deals', 'combat', 'damage', 'to', 'a', 'player')\n",
      "(',', 'put', 'a', '+1/+1', 'counter', 'on')\n",
      "('At', 'the', 'beginning', 'of', 'your', 'upkeep')\n",
      "('creature', 'card', 'from', 'your', 'graveyard', 'to')\n",
      "\n",
      "('When', 'CARDNAME', 'enters', 'the', 'battlefield', ',')\n",
      "('the', 'beginning', 'of', 'your', 'upkeep', ',')\n",
      "('at', 'the', 'beginning', 'of', 'the', 'next')\n",
      "('the', 'beginning', 'of', 'the', 'next', 'end')\n",
      "(',', 'put', 'a', '+1/+1', 'counter', 'on')\n",
      "('gets', '+1/+0', 'until', 'end', 'of', 'turn')\n",
      "('At', 'the', 'beginning', 'of', 'your', 'upkeep')\n",
      "('beginning', 'of', 'the', 'next', 'end', 'step')\n",
      "('deals', 'combat', 'damage', 'to', 'a', 'player')\n",
      "('gains', 'haste', 'until', 'end', 'of', 'turn')\n",
      "\n",
      "('When', 'CARDNAME', 'enters', 'the', 'battlefield', ',')\n",
      "(',', 'put', 'a', '+1/+1', 'counter', 'on')\n",
      "('the', 'beginning', 'of', 'your', 'upkeep', ',')\n",
      "('the', 'battlefield', 'under', 'your', 'control', ',')\n",
      "('enters', 'the', 'battlefield', 'under', 'your', 'control')\n",
      "('CARDNAME', 'enters', 'the', 'battlefield', ',', 'you')\n",
      "('At', 'the', 'beginning', 'of', 'your', 'upkeep')\n",
      "('from', 'your', 'graveyard', 'to', 'your', 'hand')\n",
      "('on', 'the', 'bottom', 'of', 'your', 'library')\n",
      "('enters', 'the', 'battlefield', ',', 'you', 'may')\n",
      "\n",
      "(':', 'Add', 'one', 'mana', 'of', 'any')\n",
      "('Add', 'one', 'mana', 'of', 'any', 'color')\n",
      "('the', 'beginning', 'of', 'your', 'upkeep', ',')\n",
      "('When', 'CARDNAME', 'enters', 'the', 'battlefield', ',')\n",
      "('you', 'control', 'Equip', 'only', 'as', 'a')\n",
      "('control', 'Equip', 'only', 'as', 'a', 'sorcery')\n",
      "(':', 'Attach', 'to', 'target', 'creature', 'you')\n",
      "('Attach', 'to', 'target', 'creature', 'you', 'control')\n",
      "('to', 'target', 'creature', 'you', 'control', 'Equip')\n",
      "('target', 'creature', 'you', 'control', 'Equip', 'only')\n",
      "\n"
     ]
    }
   ],
   "source": [
    "for tl in tokens:\n",
    "    print_common_bigrams(tl, 10)"
   ]
  },
  {
   "cell_type": "code",
   "execution_count": 17,
   "metadata": {},
   "outputs": [],
   "source": [
    "def print_collocations(tokenlist):\n",
    "\n",
    "    # put your code here!\n",
    "    find = nltk.collocations.BigramCollocationFinder.from_words(tokenlist)\n",
    "    find.apply_freq_filter(2) \n",
    "\n",
    "    print(\"** Common Collocations **\")\n",
    "    for colloc in find.nbest(nltk.collocations.BigramAssocMeasures().pmi, 10):\n",
    "        print(colloc)\n",
    "    print()"
   ]
  },
  {
   "cell_type": "code",
   "execution_count": 18,
   "metadata": {},
   "outputs": [
    {
     "name": "stdout",
     "output_type": "stream",
     "text": [
      "** Common Collocations **\n",
      "('Anim', 'Pakal')\n",
      "('Blaring', 'Captain')\n",
      "('Bretagard', 'Stronghold')\n",
      "('Cure', 'Wounds')\n",
      "('Gentle', 'Repose')\n",
      "('Guan', 'Yu')\n",
      "('Impetuous', 'Protege')\n",
      "('King', 'Darien')\n",
      "('Triumphant', 'Adventurer')\n",
      "('booster', 'pack')\n",
      "\n",
      "** Common Collocations **\n",
      "('ACTION', 'QUEUE')\n",
      "('Chakram', 'Slinger')\n",
      "('Cloud', 'Sprite')\n",
      "('Futurist', 'Operative')\n",
      "('Hive', 'Mind')\n",
      "('Hollow', 'Sentinel')\n",
      "('Jenny', 'Flint')\n",
      "('Ley', 'Weaver')\n",
      "('Maelstrom', 'Muse')\n",
      "('Midnight', 'Clock')\n",
      "\n",
      "** Common Collocations **\n",
      "('Battle', 'cry')\n",
      "('Bewitching', 'Whispers')\n",
      "('Dastardly', 'Doom')\n",
      "('Doom', 'watermark')\n",
      "('FlashFlyingTail', 'Spikes')\n",
      "('Read', 'ahead')\n",
      "('Skipped', 'chapters')\n",
      "('Soulblade', 'Renewer')\n",
      "('Triumphant', 'Adventurer')\n",
      "('legend', 'rule')\n",
      "\n",
      "** Common Collocations **\n",
      "('Anim', 'Pakal')\n",
      "('Chakram', 'Retriever')\n",
      "('Maelstrom', 'Muse')\n",
      "('Read', 'ahead')\n",
      "('Skipped', 'chapters')\n",
      "('Time', 'travel')\n",
      "('Timeless', 'Heroes')\n",
      "('Unholy', 'Heat')\n",
      "('punctuation', 'marks')\n",
      "('square', 'brackets')\n",
      "\n",
      "** Common Collocations **\n",
      "('Bewitching', 'Whispers')\n",
      "('Bretagard', 'Stronghold')\n",
      "('Civil', 'Servant')\n",
      "('Elven', 'Bow')\n",
      "('High-Rise', 'Sawjack')\n",
      "('Jenny', 'Flint')\n",
      "('Lore', 'Weaver')\n",
      "('Minsc', '&')\n",
      "('Muscle', 'Burst')\n",
      "('Natural', 'Recovery')\n",
      "\n",
      "** Common Collocations **\n",
      "('Alex', 'Borteh')\n",
      "('Arabian', 'Nights')\n",
      "('Avalanche', 'Riders')\n",
      "('Circuit', 'Mender')\n",
      "('Fungi', 'Cavern')\n",
      "('Kai', 'Budde')\n",
      "('Nicol', 'Bolas')\n",
      "('Ominous', 'Parcel')\n",
      "('Rome', \"'98\")\n",
      "('San', 'Diego')\n",
      "\n"
     ]
    }
   ],
   "source": [
    "for tl in tokens:\n",
    "    print_collocations(tl)"
   ]
  }
 ],
 "metadata": {
  "kernelspec": {
   "display_name": "Python 3",
   "language": "python",
   "name": "python3"
  },
  "language_info": {
   "codemirror_mode": {
    "name": "ipython",
    "version": 3
   },
   "file_extension": ".py",
   "mimetype": "text/x-python",
   "name": "python",
   "nbconvert_exporter": "python",
   "pygments_lexer": "ipython3",
   "version": "3.12.0"
  }
 },
 "nbformat": 4,
 "nbformat_minor": 2
}
