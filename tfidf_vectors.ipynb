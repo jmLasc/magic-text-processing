{
 "cells": [
  {
   "cell_type": "markdown",
   "metadata": {},
   "source": [
    "This notebook will evaluate the text using TFIDF and some other metrics."
   ]
  },
  {
   "cell_type": "code",
   "execution_count": 1,
   "metadata": {},
   "outputs": [],
   "source": [
    "import re\n",
    "import nltk\n",
    "import glob\n",
    "from basic import *"
   ]
  },
  {
   "cell_type": "code",
   "execution_count": 2,
   "metadata": {},
   "outputs": [],
   "source": [
    "raw = fetchData(\"cards.json\")\n",
    "data = cleanData(raw)"
   ]
  },
  {
   "cell_type": "code",
   "execution_count": 3,
   "metadata": {},
   "outputs": [
    {
     "name": "stdout",
     "output_type": "stream",
     "text": [
      "<class 'dict'>\n",
      "<class 'list'>\n",
      "<class 'dict'>\n",
      "dict_keys(['W', 'U', 'B', 'R', 'G', 'colorless'])\n",
      "dict_keys(['object', 'id', 'oracle_id', 'multiverse_ids', 'mtgo_id', 'arena_id', 'tcgplayer_id', 'cardmarket_id', 'name', 'lang', 'released_at', 'uri', 'scryfall_uri', 'layout', 'highres_image', 'image_status', 'image_uris', 'mana_cost', 'cmc', 'type_line', 'oracle_text', 'colors', 'color_identity', 'keywords', 'legalities', 'games', 'reserved', 'foil', 'nonfoil', 'finishes', 'oversized', 'promo', 'reprint', 'variation', 'set_id', 'set', 'set_name', 'set_type', 'set_uri', 'set_search_uri', 'scryfall_set_uri', 'rulings_uri', 'prints_search_uri', 'collector_number', 'digital', 'rarity', 'flavor_text', 'card_back_id', 'artist', 'artist_ids', 'illustration_id', 'border_color', 'frame', 'security_stamp', 'full_art', 'textless', 'booster', 'story_spotlight', 'edhrec_rank', 'preview', 'prices', 'related_uris', 'purchase_uris'])\n"
     ]
    }
   ],
   "source": [
    "# Check above processes worked\n",
    "print(type(data))\n",
    "print(type(data['W']))\n",
    "print(type(data['W'][0]))\n",
    "\n",
    "print(data.keys())\n",
    "print(data['W'][0].keys())"
   ]
  },
  {
   "cell_type": "code",
   "execution_count": 56,
   "metadata": {},
   "outputs": [],
   "source": [
    "def tokenizeBucket(listColor): # This takes ONE list, e.g. 'W'\n",
    "    tokensList = []\n",
    "\n",
    "    for cardDict in listColor:\n",
    "        if 'oracle_text' in list(cardDict.keys()):\n",
    "            tokens = nltk.word_tokenize(cardDict['oracle_text'])\n",
    "            for t in tokens:\n",
    "                tokensList.append(t)\n",
    "\n",
    "    return tokensList"
   ]
  },
  {
   "cell_type": "code",
   "execution_count": 57,
   "metadata": {},
   "outputs": [],
   "source": [
    "tokens = [] # will be a list(list(str))\n",
    "for key in data.keys():\n",
    "    tokens.append(tokenizeBucket(data[key]))"
   ]
  },
  {
   "cell_type": "code",
   "execution_count": 105,
   "metadata": {},
   "outputs": [],
   "source": [
    "stoplist = [\"{\", \"}\", 'W', 'U', 'B', 'R', 'G', \"T\", \"—\", \"TK\", \".\"]"
   ]
  },
  {
   "cell_type": "code",
   "execution_count": 106,
   "metadata": {},
   "outputs": [],
   "source": [
    "def print_common_bigrams(tokenlist, n):\n",
    "\n",
    "    tokenlist = [w for w in tokenlist if w not in stoplist] \n",
    "\n",
    "    raw = nltk.ngrams(tokenlist, 5)\n",
    "    fdist = nltk.FreqDist(raw)\n",
    "    for pair in fdist.most_common(n): # print n most common bigrams\n",
    "        print(pair[0]) # most_common gives list(tuple(tuple(str, str), int)) so this is how we extract the words2\n",
    "    print()\n"
   ]
  },
  {
   "cell_type": "code",
   "execution_count": 107,
   "metadata": {},
   "outputs": [
    {
     "name": "stdout",
     "output_type": "stream",
     "text": [
      "('CARDNAME', 'enters', 'the', 'battlefield', ',')\n",
      "('When', 'CARDNAME', 'enters', 'the', 'battlefield')\n",
      "('put', 'a', '+1/+1', 'counter', 'on')\n",
      "('damage', 'that', 'would', 'be', 'dealt')\n",
      "(',', 'put', 'a', '+1/+1', 'counter')\n",
      "('that', 'would', 'be', 'dealt', 'to')\n",
      "('enters', 'the', 'battlefield', ',', 'you')\n",
      "('the', 'battlefield', 'under', 'your', 'control')\n",
      "('+1/+1', 'until', 'end', 'of', 'turn')\n",
      "('the', 'beginning', 'of', 'your', 'upkeep')\n",
      "\n",
      "('CARDNAME', 'enters', 'the', 'battlefield', ',')\n",
      "('When', 'CARDNAME', 'enters', 'the', 'battlefield')\n",
      "('to', 'its', 'owner', \"'s\", 'hand')\n",
      "('combat', 'damage', 'to', 'a', 'player')\n",
      "('damage', 'to', 'a', 'player', ',')\n",
      "('the', 'beginning', 'of', 'your', 'upkeep')\n",
      "('beginning', 'of', 'your', 'upkeep', ',')\n",
      "('deals', 'combat', 'damage', 'to', 'a')\n",
      "('(', 'You', 'may', 'cast', 'this')\n",
      "('on', 'the', 'bottom', 'of', 'your')\n",
      "\n",
      "('CARDNAME', 'enters', 'the', 'battlefield', ',')\n",
      "('When', 'CARDNAME', 'enters', 'the', 'battlefield')\n",
      "('the', 'beginning', 'of', 'your', 'upkeep')\n",
      "('beginning', 'of', 'your', 'upkeep', ',')\n",
      "('card', 'from', 'your', 'graveyard', 'to')\n",
      "('At', 'the', 'beginning', 'of', 'your')\n",
      "('from', 'your', 'graveyard', 'to', 'your')\n",
      "('from', 'your', 'graveyard', 'to', 'the')\n",
      "('your', 'graveyard', 'to', 'the', 'battlefield')\n",
      "('put', 'a', '+1/+1', 'counter', 'on')\n",
      "\n",
      "('CARDNAME', 'enters', 'the', 'battlefield', ',')\n",
      "('When', 'CARDNAME', 'enters', 'the', 'battlefield')\n",
      "('CARDNAME', 'deals', '1', 'damage', 'to')\n",
      "('CARDNAME', 'deals', '2', 'damage', 'to')\n",
      "('the', 'beginning', 'of', 'your', 'upkeep')\n",
      "('beginning', 'of', 'your', 'upkeep', ',')\n",
      "('haste', 'until', 'end', 'of', 'turn')\n",
      "('CARDNAME', 'deals', '3', 'damage', 'to')\n",
      "('At', 'the', 'beginning', 'of', 'your')\n",
      "('+1/+0', 'until', 'end', 'of', 'turn')\n",
      "\n",
      "('CARDNAME', 'enters', 'the', 'battlefield', ',')\n",
      "('When', 'CARDNAME', 'enters', 'the', 'battlefield')\n",
      "('put', 'a', '+1/+1', 'counter', 'on')\n",
      "(',', 'put', 'a', '+1/+1', 'counter')\n",
      "('the', 'battlefield', 'under', 'your', 'control')\n",
      "('the', 'beginning', 'of', 'your', 'upkeep')\n",
      "('beginning', 'of', 'your', 'upkeep', ',')\n",
      "('battlefield', 'under', 'your', 'control', ',')\n",
      "('enters', 'the', 'battlefield', 'under', 'your')\n",
      "('At', 'the', 'beginning', 'of', 'your')\n",
      "\n",
      "('CARDNAME', 'enters', 'the', 'battlefield', ',')\n",
      "(':', 'Add', 'one', 'mana', 'of')\n",
      "('Add', 'one', 'mana', 'of', 'any')\n",
      "('one', 'mana', 'of', 'any', 'color')\n",
      "('the', 'beginning', 'of', 'your', 'upkeep')\n",
      "('When', 'CARDNAME', 'enters', 'the', 'battlefield')\n",
      "('beginning', 'of', 'your', 'upkeep', ',')\n",
      "(',', ',', 'Sacrifice', 'CARDNAME', ':')\n",
      "('At', 'the', 'beginning', 'of', 'your')\n",
      "('to', 'target', 'creature', 'you', 'control')\n",
      "\n"
     ]
    }
   ],
   "source": [
    "for tl in tokens:\n",
    "    print_common_bigrams(tl, 10)"
   ]
  }
 ],
 "metadata": {
  "kernelspec": {
   "display_name": "Python 3",
   "language": "python",
   "name": "python3"
  },
  "language_info": {
   "codemirror_mode": {
    "name": "ipython",
    "version": 3
   },
   "file_extension": ".py",
   "mimetype": "text/x-python",
   "name": "python",
   "nbconvert_exporter": "python",
   "pygments_lexer": "ipython3",
   "version": "3.12.0"
  }
 },
 "nbformat": 4,
 "nbformat_minor": 2
}
